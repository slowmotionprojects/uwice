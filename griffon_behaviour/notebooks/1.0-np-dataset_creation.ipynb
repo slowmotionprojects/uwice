{
 "cells": [
  {
   "cell_type": "code",
   "execution_count": 2,
   "metadata": {
    "collapsed": true
   },
   "outputs": [],
   "source": [
    "# -*- coding: utf-8 -*-\n",
    "from __future__ import print_function\n",
    "import datetime\n",
    "\n",
    "%load_ext autoreload\n",
    "%autoreload 2"
   ]
  },
  {
   "cell_type": "code",
   "execution_count": 3,
   "metadata": {
    "collapsed": true
   },
   "outputs": [],
   "source": [
    "import pandas as pd\n",
    "import numpy as np"
   ]
  },
  {
   "cell_type": "code",
   "execution_count": 12,
   "metadata": {
    "collapsed": true
   },
   "outputs": [],
   "source": [
    "file = '../data/raw/e-Obs_GPRS_Himalayan_Griffon,_Sherub,_Bhutan-Thang_Kaar_Dorje_(4014)-annotated-bursts.csv'"
   ]
  },
  {
   "cell_type": "code",
   "execution_count": 10,
   "metadata": {
    "collapsed": false
   },
   "outputs": [
    {
     "name": "stdout",
     "output_type": "stream",
     "text": [
      "type,tag-serial-number,burst-start-timestamp,annotation,eobs_acceleration_axes,eobs_acceleration_sampling_frequency_per_axis,eobs_accelerations_raw\r",
      "\r\n",
      "acc,0,2014-12-11 06:30:07.000,\"Rest\",\"XYZ\",18.74,\"2016 1604 1928 2026 1618 1922 2028 1614 1934 2025 1600 1933 2028 1600 1953 2069 1600 1928 2030 1608 1934 2029 1610 1933 2024 1614 1936 2017 1600 1937 2040 1607 1929 2025 1602 1944\"\r",
      "\r\n"
     ]
    }
   ],
   "source": [
    "!head -2 ../data/raw/e-Obs_GPRS_Himalayan_Griffon,_Sherub,_Bhutan-Thang_Kaar_Dorje_\\(4014\\)-annotated-bursts.csv"
   ]
  },
  {
   "cell_type": "code",
   "execution_count": 13,
   "metadata": {
    "collapsed": true
   },
   "outputs": [],
   "source": [
    "dfraw = pd.read_csv(file, parse_dates=['burst-start-timestamp'])"
   ]
  },
  {
   "cell_type": "code",
   "execution_count": 14,
   "metadata": {
    "collapsed": false
   },
   "outputs": [
    {
     "data": {
      "text/plain": [
       "count     28399\n",
       "unique        1\n",
       "top         acc\n",
       "freq      28399\n",
       "Name: type, dtype: object"
      ]
     },
     "execution_count": 14,
     "metadata": {},
     "output_type": "execute_result"
    }
   ],
   "source": [
    "dfraw.type.describe()"
   ]
  },
  {
   "cell_type": "markdown",
   "metadata": {},
   "source": [
    "\"type\" column can be safely discarded"
   ]
  },
  {
   "cell_type": "code",
   "execution_count": 15,
   "metadata": {
    "collapsed": false
   },
   "outputs": [
    {
     "data": {
      "text/plain": [
       "count    28399.0\n",
       "mean         0.0\n",
       "std          0.0\n",
       "min          0.0\n",
       "25%          0.0\n",
       "50%          0.0\n",
       "75%          0.0\n",
       "max          0.0\n",
       "Name: tag-serial-number, dtype: float64"
      ]
     },
     "execution_count": 15,
     "metadata": {},
     "output_type": "execute_result"
    }
   ],
   "source": [
    "dfraw['tag-serial-number'].describe()"
   ]
  },
  {
   "cell_type": "markdown",
   "metadata": {},
   "source": [
    "\"tag-serial-number\" column carries no obvious information"
   ]
  },
  {
   "cell_type": "code",
   "execution_count": 16,
   "metadata": {
    "collapsed": false
   },
   "outputs": [
    {
     "data": {
      "text/plain": [
       "count                   28399\n",
       "unique                  28399\n",
       "top       2015-02-07 12:50:00\n",
       "freq                        1\n",
       "first     2014-12-11 06:30:07\n",
       "last      2015-06-28 02:10:00\n",
       "Name: burst-start-timestamp, dtype: object"
      ]
     },
     "execution_count": 16,
     "metadata": {},
     "output_type": "execute_result"
    }
   ],
   "source": [
    "dfraw['burst-start-timestamp'].describe()"
   ]
  },
  {
   "cell_type": "code",
   "execution_count": 17,
   "metadata": {
    "collapsed": false
   },
   "outputs": [
    {
     "data": {
      "text/plain": [
       "Rest            19819\n",
       "Fly              4370\n",
       "Restless         3267\n",
       "Others            441\n",
       "WHR               334\n",
       "Flap_flight        92\n",
       "Feed               49\n",
       "Flap_land          15\n",
       "Flap_takeoff       12\n",
       "Name: annotation, dtype: int64"
      ]
     },
     "execution_count": 17,
     "metadata": {},
     "output_type": "execute_result"
    }
   ],
   "source": [
    "dfraw.annotation.value_counts()"
   ]
  },
  {
   "cell_type": "code",
   "execution_count": 18,
   "metadata": {
    "collapsed": false
   },
   "outputs": [
    {
     "data": {
      "text/plain": [
       "count     28399\n",
       "unique        1\n",
       "top         XYZ\n",
       "freq      28399\n",
       "Name: eobs_acceleration_axes, dtype: object"
      ]
     },
     "execution_count": 18,
     "metadata": {},
     "output_type": "execute_result"
    }
   ],
   "source": [
    "dfraw.eobs_acceleration_axes.describe()"
   ]
  },
  {
   "cell_type": "markdown",
   "metadata": {},
   "source": [
    "Axes always have the same order -- good"
   ]
  },
  {
   "cell_type": "code",
   "execution_count": 19,
   "metadata": {
    "collapsed": false
   },
   "outputs": [
    {
     "data": {
      "text/plain": [
       "18.74    28399\n",
       "Name: eobs_acceleration_sampling_frequency_per_axis, dtype: int64"
      ]
     },
     "execution_count": 19,
     "metadata": {},
     "output_type": "execute_result"
    }
   ],
   "source": [
    "dfraw.eobs_acceleration_sampling_frequency_per_axis.value_counts()"
   ]
  },
  {
   "cell_type": "markdown",
   "metadata": {},
   "source": [
    "We'll discard the 10.54 Hz measurements as there are so few of them"
   ]
  },
  {
   "cell_type": "markdown",
   "metadata": {},
   "source": [
    "The column \"eobs_accelerations_raw\" carries acceleration information (40 measurements on each axis, for all three axes)."
   ]
  },
  {
   "cell_type": "code",
   "execution_count": 21,
   "metadata": {
    "collapsed": false
   },
   "outputs": [
    {
     "data": {
      "text/plain": [
       "120    25499\n",
       "36      2900\n",
       "Name: eobs_accelerations_raw, dtype: int64"
      ]
     },
     "execution_count": 21,
     "metadata": {},
     "output_type": "execute_result"
    }
   ],
   "source": [
    "dfraw.eobs_accelerations_raw.apply(lambda x: len(x.split())).value_counts()"
   ]
  },
  {
   "cell_type": "markdown",
   "metadata": {},
   "source": [
    "Looks clean."
   ]
  },
  {
   "cell_type": "code",
   "execution_count": 50,
   "metadata": {
    "collapsed": true
   },
   "outputs": [],
   "source": [
    "df = pd.DataFrame()"
   ]
  },
  {
   "cell_type": "code",
   "execution_count": 51,
   "metadata": {
    "collapsed": true
   },
   "outputs": [],
   "source": [
    "df['time'] = dfraw['burst-start-timestamp']\n",
    "df['acc'] = dfraw['eobs_accelerations_raw']\n",
    "df['state'] = dfraw['annotation']"
   ]
  },
  {
   "cell_type": "code",
   "execution_count": 52,
   "metadata": {
    "collapsed": false
   },
   "outputs": [],
   "source": [
    "valid = (df['acc'].apply(lambda x: len(x.split())) == 120)"
   ]
  },
  {
   "cell_type": "code",
   "execution_count": 53,
   "metadata": {
    "collapsed": true
   },
   "outputs": [],
   "source": [
    "df = df[valid]"
   ]
  },
  {
   "cell_type": "code",
   "execution_count": 54,
   "metadata": {
    "collapsed": false
   },
   "outputs": [],
   "source": [
    "df['acc_x'] = df['acc'].apply(lambda x: map(int, x.split()[0:40]))\n",
    "df['acc_y'] = df['acc'].apply(lambda x: map(int, x.split()[40:80]))\n",
    "df['acc_z'] = df['acc'].apply(lambda x: map(int, x.split()[80:120]))"
   ]
  },
  {
   "cell_type": "code",
   "execution_count": 55,
   "metadata": {
    "collapsed": false
   },
   "outputs": [],
   "source": [
    "del df['acc']"
   ]
  },
  {
   "cell_type": "markdown",
   "metadata": {},
   "source": [
    "Grouping all fly states into a single \"Fly\" one"
   ]
  },
  {
   "cell_type": "code",
   "execution_count": 56,
   "metadata": {
    "collapsed": false
   },
   "outputs": [
    {
     "data": {
      "text/plain": [
       "Rest            17646\n",
       "Fly              3847\n",
       "Restless         3108\n",
       "Others            419\n",
       "WHR               321\n",
       "Flap_flight        86\n",
       "Feed               46\n",
       "Flap_land          14\n",
       "Flap_takeoff       12\n",
       "Name: state, dtype: int64"
      ]
     },
     "execution_count": 56,
     "metadata": {},
     "output_type": "execute_result"
    }
   ],
   "source": [
    "df['state'].value_counts()"
   ]
  },
  {
   "cell_type": "code",
   "execution_count": 57,
   "metadata": {
    "collapsed": false
   },
   "outputs": [],
   "source": [
    "df.loc[df.state.isin(['Flap-flight', 'Flap-takeoff', 'Flap-land']), 'state'] = 'Fly'"
   ]
  },
  {
   "cell_type": "markdown",
   "metadata": {},
   "source": [
    "Now filtering: only 3 states, and only 50 Hz bursts"
   ]
  },
  {
   "cell_type": "code",
   "execution_count": 58,
   "metadata": {
    "collapsed": false
   },
   "outputs": [
    {
     "data": {
      "text/plain": [
       "True     21539\n",
       "False     3960\n",
       "Name: state, dtype: int64"
      ]
     },
     "execution_count": 58,
     "metadata": {},
     "output_type": "execute_result"
    }
   ],
   "source": [
    "valid = df.state.isin(['Rest', 'Fly', 'Feed']) #& (dfraw.eobs_acceleration_sampling_frequency_per_axis == 50.00)\n",
    "valid.value_counts()"
   ]
  },
  {
   "cell_type": "code",
   "execution_count": 59,
   "metadata": {
    "collapsed": true
   },
   "outputs": [],
   "source": [
    "df = df[valid]"
   ]
  },
  {
   "cell_type": "markdown",
   "metadata": {},
   "source": [
    "Converting acceleration values to SI (m.s^-2) based on pre-deployment calibration"
   ]
  },
  {
   "cell_type": "code",
   "execution_count": 62,
   "metadata": {
    "collapsed": false
   },
   "outputs": [],
   "source": [
    "g=9.80665 # m.s^(-2)\n",
    "df['acc_x_cal'] = df['acc_x'].apply(lambda l: [(x-2030)*0.0023*g for x in l])\n",
    "df['acc_y_cal'] = df['acc_y'].apply(lambda l: [(x-2033)*0.0023*g for x in l])\n",
    "df['acc_z_cal'] = df['acc_z'].apply(lambda l: [(x-1951)*0.0023*g for x in l])"
   ]
  },
  {
   "cell_type": "markdown",
   "metadata": {},
   "source": [
    "Let's make sure that none of the acceleration values is too high or too low"
   ]
  },
  {
   "cell_type": "code",
   "execution_count": 65,
   "metadata": {
    "collapsed": false
   },
   "outputs": [
    {
     "data": {
      "text/plain": [
       "count    21539.000000\n",
       "mean        -4.676967\n",
       "std          0.428443\n",
       "min         -9.178877\n",
       "25%         -4.948068\n",
       "50%         -4.697704\n",
       "75%         -4.404485\n",
       "max         -1.645409\n",
       "Name: acc_x_cal, dtype: float64"
      ]
     },
     "execution_count": 65,
     "metadata": {},
     "output_type": "execute_result"
    }
   ],
   "source": [
    "df.acc_x_cal.apply(lambda x: np.mean(x)).describe()"
   ]
  },
  {
   "cell_type": "code",
   "execution_count": 66,
   "metadata": {
    "collapsed": false
   },
   "outputs": [
    {
     "data": {
      "text/plain": [
       "count    21539.000000\n",
       "mean        -4.929726\n",
       "std          0.413185\n",
       "min         -7.867851\n",
       "25%         -5.191665\n",
       "50%         -4.955398\n",
       "75%         -4.673739\n",
       "max         -1.655559\n",
       "Name: acc_y_cal, dtype: float64"
      ]
     },
     "execution_count": 66,
     "metadata": {},
     "output_type": "execute_result"
    }
   ],
   "source": [
    "df.acc_y_cal.apply(lambda x: np.mean(x)).describe()"
   ]
  },
  {
   "cell_type": "code",
   "execution_count": 67,
   "metadata": {
    "collapsed": false
   },
   "outputs": [
    {
     "data": {
      "text/plain": [
       "count    21539.000000\n",
       "mean        -3.036212\n",
       "std          0.459177\n",
       "min         -6.707381\n",
       "25%         -3.318448\n",
       "50%         -3.047220\n",
       "75%         -2.741032\n",
       "max          0.166909\n",
       "Name: acc_z_cal, dtype: float64"
      ]
     },
     "execution_count": 67,
     "metadata": {},
     "output_type": "execute_result"
    }
   ],
   "source": [
    "df.acc_z_cal.apply(lambda x: np.mean(x)).describe()"
   ]
  },
  {
   "cell_type": "markdown",
   "metadata": {},
   "source": [
    "All three axes look homogeneous and within reasonable bounds. Using the mean as an indicator shouldn't be a problem."
   ]
  },
  {
   "cell_type": "markdown",
   "metadata": {},
   "source": [
    "Let's create composite variables (mean and coefficient of variation) from the acceleration bursts"
   ]
  },
  {
   "cell_type": "code",
   "execution_count": 68,
   "metadata": {
    "collapsed": false
   },
   "outputs": [],
   "source": [
    "df['acc_x_mean'] = df.acc_x_cal.apply(lambda x: np.mean(x))\n",
    "df['acc_y_mean'] = df.acc_y_cal.apply(lambda x: np.mean(x))\n",
    "df['acc_z_mean'] = df.acc_z_cal.apply(lambda x: np.mean(x))\n",
    "\n",
    "df['acc_x_std'] = df.acc_x_cal.apply(lambda x: np.std(x))\n",
    "df['acc_y_std'] = df.acc_y_cal.apply(lambda x: np.std(x))\n",
    "df['acc_z_std'] = df.acc_z_cal.apply(lambda x: np.std(x))\n",
    "\n",
    "df['acc_x_cv'] = df.acc_x_cal.apply(lambda x: np.std(x)/np.mean(x))\n",
    "df['acc_y_cv'] = df.acc_y_cal.apply(lambda x: np.std(x)/np.mean(x))\n",
    "df['acc_z_cv'] = df.acc_z_cal.apply(lambda x: np.std(x)/np.mean(x))"
   ]
  },
  {
   "cell_type": "markdown",
   "metadata": {},
   "source": [
    "Exporting clean data to CSV"
   ]
  },
  {
   "cell_type": "code",
   "execution_count": 69,
   "metadata": {
    "collapsed": false
   },
   "outputs": [],
   "source": [
    "df[['acc_x_mean', 'acc_x_std', 'acc_x_cv', 'acc_y_mean', 'acc_y_std', 'acc_y_cv', 'acc_z_mean', 'acc_z_std', 'acc_z_cv', 'state']]\\\n",
    ".to_csv('../data/processed/indiv_1.csv', header=True, index=False)"
   ]
  },
  {
   "cell_type": "code",
   "execution_count": 70,
   "metadata": {
    "collapsed": false
   },
   "outputs": [
    {
     "name": "stdout",
     "output_type": "stream",
     "text": [
      "acc_x_mean,acc_x_std,acc_x_cv,acc_y_mean,acc_y_std,acc_y_cv,acc_z_mean,acc_z_std,acc_z_cv,state\r\n",
      "-4.8426218365,3.76003668127,-0.776446480485,-5.12061584737,3.66430356848,-0.715598216639,-3.28912589337,3.68817314391,-1.12132319147,Rest\r\n",
      "-4.73999524425,3.89743015629,-0.822243473982,-5.01291431375,3.78058890185,-0.754169863123,-3.193829772,3.82719824746,-1.19831002924,Rest\r\n",
      "-4.70559841937,3.79819946074,-0.807166086485,-4.8516439545,3.86599927603,-0.79684315508,-2.95981858637,3.90424431902,-1.31908230355,Rest\r\n",
      "-4.2787394615,4.27749796731,-0.999709845809,-4.53643370688,4.26052204979,-0.939178730494,-2.77373740262,3.99598574096,-1.44065034317,Rest\r\n",
      "-4.38644099512,4.06636372804,-0.927030303737,-4.7614227745,4.01340657067,-0.84290069602,-2.85268093512,4.02365850064,-1.41048318832,Rest\r\n",
      "-4.78679748137,3.47520478975,-0.725997872957,-5.06479149225,3.47264368295,-0.685643957558,-3.11150294525,3.41089442308,-1.09622085632,Rest\r\n",
      "-4.217840165,3.97522597131,-0.942479045152,-4.54207253062,3.99238497731,-0.878978693182,-2.56115374725,3.90427840169,-1.52442172044,Rest\r\n",
      "-4.31144463925,3.85724413538,-0.894652363215,-4.6170688865,3.90447140905,-0.845660202399,-2.56510092387,3.88441534244,-1.51433236263,Rest\r\n",
      "-4.21502075312,3.90816354567,-0.927199122986,-4.569702767,3.93105792185,-0.860243679356,-2.58765621887,3.81902504864,-1.47586260523,Rest\r\n"
     ]
    }
   ],
   "source": [
    "!head -10 ../data/processed/indiv_1.csv"
   ]
  }
 ],
 "metadata": {
  "kernelspec": {
   "display_name": "Python 2",
   "language": "python",
   "name": "python2"
  },
  "language_info": {
   "codemirror_mode": {
    "name": "ipython",
    "version": 2
   },
   "file_extension": ".py",
   "mimetype": "text/x-python",
   "name": "python",
   "nbconvert_exporter": "python",
   "pygments_lexer": "ipython2",
   "version": "2.7.12"
  }
 },
 "nbformat": 4,
 "nbformat_minor": 0
}
